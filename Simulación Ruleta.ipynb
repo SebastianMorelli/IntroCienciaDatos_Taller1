{
 "cells": [
  {
   "cell_type": "code",
   "execution_count": 1,
   "id": "2a29cb2f",
   "metadata": {},
   "outputs": [],
   "source": [
    "import numpy as np\n",
    "import matplotlib.pylab as plt\n",
    "import pandas as pd"
   ]
  },
  {
   "cell_type": "code",
   "execution_count": 2,
   "id": "b8a9e49f",
   "metadata": {},
   "outputs": [],
   "source": [
    "numbers = np.linspace(0,36, 37)\n",
    "numbers = np.append(numbers, -1)"
   ]
  },
  {
   "cell_type": "code",
   "execution_count": 5,
   "id": "f75e61df",
   "metadata": {},
   "outputs": [],
   "source": [
    "Bolsillo_1 = 500\n",
    "Historico_Bolsillo_1 = np.array([])\n",
    "Historico_Ruleta_1 = np.array([])\n",
    "Historico_Apuestas_1 = np.array([])\n",
    "\n",
    "for i in range(100):\n",
    "    if Bolsillo_1 > 0:\n",
    "        num_apuesta_1 = np.random.randint(0,38,1)\n",
    "        num_ruleta_1 = np.random.randint(0,38,1)\n",
    "        Val_apuesta = 1\n",
    "        if numbers[num_ruleta_1] == numbers[num_apuesta_1]:\n",
    "            Bolsillo_1 += Val_apuesta*36\n",
    "        else:\n",
    "            Bolsillo_1 -= Val_apuesta\n",
    "        \n",
    "        Historico_Bolsillo_1 = np.append(Historico_Bolsillo_1, Bolsillo_1)\n",
    "        Historico_Ruleta_1 = np.append(Historico_Ruleta_1, numbers[num_ruleta_1])\n",
    "        Historico_Apuestas_1 = np.append(Historico_Apuestas_1, numbers[num_apuesta_1])      "
   ]
  },
  {
   "cell_type": "code",
   "execution_count": 6,
   "id": "1cb7d266",
   "metadata": {},
   "outputs": [
    {
     "data": {
      "text/plain": [
       "[<matplotlib.lines.Line2D at 0x19f2f6da430>]"
      ]
     },
     "execution_count": 6,
     "metadata": {},
     "output_type": "execute_result"
    },
    {
     "data": {
      "image/png": "[encoded data removed]",
      "text/plain": [
       "<Figure size 432x288 with 1 Axes>"
      ]
     },
     "metadata": {
      "needs_background": "light"
     },
     "output_type": "display_data"
    }
   ],
   "source": [
    "plt.plot(Historico_Bolsillo_1)"
   ]
  },
  {
   "cell_type": "code",
   "execution_count": 7,
   "id": "5ce81e75",
   "metadata": {},
   "outputs": [
    {
     "data": {
      "text/plain": [
       "(array([2., 3., 2., 2., 7., 3., 0., 2., 1., 3., 1., 3., 2., 1., 4., 2., 0.,\n",
       "        2., 2., 2., 2., 4., 6., 1., 2., 2., 2., 4., 4., 7., 3., 3., 2., 4.,\n",
       "        4., 1., 1., 4.]),\n",
       " array([-1.00000000e+00, -2.63157895e-02,  9.47368421e-01,  1.92105263e+00,\n",
       "         2.89473684e+00,  3.86842105e+00,  4.84210526e+00,  5.81578947e+00,\n",
       "         6.78947368e+00,  7.76315789e+00,  8.73684211e+00,  9.71052632e+00,\n",
       "         1.06842105e+01,  1.16578947e+01,  1.26315789e+01,  1.36052632e+01,\n",
       "         1.45789474e+01,  1.55526316e+01,  1.65263158e+01,  1.75000000e+01,\n",
       "         1.84736842e+01,  1.94473684e+01,  2.04210526e+01,  2.13947368e+01,\n",
       "         2.23684211e+01,  2.33421053e+01,  2.43157895e+01,  2.52894737e+01,\n",
       "         2.62631579e+01,  2.72368421e+01,  2.82105263e+01,  2.91842105e+01,\n",
       "         3.01578947e+01,  3.11315789e+01,  3.21052632e+01,  3.30789474e+01,\n",
       "         3.40526316e+01,  3.50263158e+01,  3.60000000e+01]),\n",
       " <BarContainer object of 38 artists>)"
      ]
     },
     "execution_count": 7,
     "metadata": {},
     "output_type": "execute_result"
    },
    {
     "data": {
      "image/png": "[encoded data removed]",
      "text/plain": [
       "<Figure size 432x288 with 1 Axes>"
      ]
     },
     "metadata": {
      "needs_background": "light"
     },
     "output_type": "display_data"
    }
   ],
   "source": [
    "plt.hist(Historico_Ruleta_1, bins=38)\n",
    "plt.hist(Historico_Apuestas_1, bins=38)"
   ]
  },
  {
   "cell_type": "code",
   "execution_count": 13,
   "id": "3d368681",
   "metadata": {},
   "outputs": [],
   "source": [
    "Bolsillo_2 = 500\n",
    "Historico_Bolsillo_2 = np.array([])\n",
    "Historico_Ruleta_2 = np.array([])\n",
    "Historico_Apuestas_2 = np.array([])\n",
    "Val_apuesta = 1\n",
    "\n",
    "for i in range(100):\n",
    "    if Bolsillo_2 > 0:\n",
    "        num_apuesta_2 = np.random.randint(0,2,1)\n",
    "        num_ruleta_2 = np.random.randint(0,38,1)\n",
    "        \n",
    "        if numbers[num_ruleta_2]>= 19 and num_apuesta_2 == 1:\n",
    "            Bolsillo_2 += Val_apuesta*2\n",
    "            Val_apuesta = 1\n",
    "            \n",
    "        if numbers[num_ruleta_2] < 19 and num_apuesta_2 == 0 and numbers[num_ruleta_2] != 0 and numbers[num_ruleta_2] != -1:\n",
    "            Bolsillo_2 += Val_apuesta*2\n",
    "            Val_apuesta = 1\n",
    "        \n",
    "        else:\n",
    "            Bolsillo_2 = Bolsillo_2 - Val_apuesta\n",
    "            Val_apuesta = Val_apuesta*2\n",
    "        \n",
    "        Historico_Bolsillo_2 = np.append(Historico_Bolsillo_2, Bolsillo_2)\n",
    "        Historico_Ruleta_2 = np.append(Historico_Ruleta_2, num_ruleta_2)\n",
    "        Historico_Apuestas_2 = np.append(Historico_Apuestas_2, num_apuesta_2)"
   ]
  },
  {
   "cell_type": "code",
   "execution_count": 14,
   "id": "1bf51905",
   "metadata": {},
   "outputs": [
    {
     "data": {
      "text/plain": [
       "[<matplotlib.lines.Line2D at 0x19f2f91ecd0>]"
      ]
     },
     "execution_count": 14,
     "metadata": {},
     "output_type": "execute_result"
    },
    {
     "data": {
      "image/png": "[encoded data removed]",
      "text/plain": [
       "<Figure size 432x288 with 1 Axes>"
      ]
     },
     "metadata": {
      "needs_background": "light"
     },
     "output_type": "display_data"
    }
   ],
   "source": [
    "plt.plot(Historico_Bolsillo_2)"
   ]
  },
  {
   "cell_type": "code",
   "execution_count": 15,
   "id": "62485bd6",
   "metadata": {},
   "outputs": [
    {
     "data": {
      "text/plain": [
       "(array([2., 0., 3., 5., 1., 3., 1., 4., 1., 2., 2., 1., 2., 0., 0., 0., 2.,\n",
       "        1., 2., 2., 3., 4., 0., 1., 1., 2., 1., 3., 1., 5., 1., 1., 3., 2.,\n",
       "        3., 2., 1., 3.]),\n",
       " array([ 0.        ,  0.97368421,  1.94736842,  2.92105263,  3.89473684,\n",
       "         4.86842105,  5.84210526,  6.81578947,  7.78947368,  8.76315789,\n",
       "         9.73684211, 10.71052632, 11.68421053, 12.65789474, 13.63157895,\n",
       "        14.60526316, 15.57894737, 16.55263158, 17.52631579, 18.5       ,\n",
       "        19.47368421, 20.44736842, 21.42105263, 22.39473684, 23.36842105,\n",
       "        24.34210526, 25.31578947, 26.28947368, 27.26315789, 28.23684211,\n",
       "        29.21052632, 30.18421053, 31.15789474, 32.13157895, 33.10526316,\n",
       "        34.07894737, 35.05263158, 36.02631579, 37.        ]),\n",
       " <BarContainer object of 38 artists>)"
      ]
     },
     "execution_count": 15,
     "metadata": {},
     "output_type": "execute_result"
    },
    {
     "data": {
      "image/png": "[encoded data removed]",
      "text/plain": [
       "<Figure size 432x288 with 1 Axes>"
      ]
     },
     "metadata": {
      "needs_background": "light"
     },
     "output_type": "display_data"
    }
   ],
   "source": [
    "plt.hist(Historico_Ruleta_2, bins=38)"
   ]
  },
  {
   "cell_type": "code",
   "execution_count": 16,
   "id": "4d2c46f2",
   "metadata": {},
   "outputs": [
    {
     "data": {
      "text/plain": [
       "(array([36.,  0.,  0.,  0.,  0.,  0.,  0.,  0.,  0., 35.]),\n",
       " array([0. , 0.1, 0.2, 0.3, 0.4, 0.5, 0.6, 0.7, 0.8, 0.9, 1. ]),\n",
       " <BarContainer object of 10 artists>)"
      ]
     },
     "execution_count": 16,
     "metadata": {},
     "output_type": "execute_result"
    },
    {
     "data": {
      "image/png": "[encoded data removed]",
      "text/plain": [
       "<Figure size 432x288 with 1 Axes>"
      ]
     },
     "metadata": {
      "needs_background": "light"
     },
     "output_type": "display_data"
    }
   ],
   "source": [
    "plt.hist(Historico_Apuestas_2)"
   ]
  },
  {
   "cell_type": "code",
   "execution_count": null,
   "id": "3d374431",
   "metadata": {},
   "outputs": [],
   "source": []
  }
 ],
 "metadata": {
  "kernelspec": {
   "display_name": "Python 3",
   "language": "python",
   "name": "python3"
  },
  "language_info": {
   "codemirror_mode": {
    "name": "ipython",
    "version": 3
   },
   "file_extension": ".py",
   "mimetype": "text/x-python",
   "name": "python",
   "nbconvert_exporter": "python",
   "pygments_lexer": "ipython3",
   "version": "3.8.8"
  }
 },
 "nbformat": 4,
 "nbformat_minor": 5
}
